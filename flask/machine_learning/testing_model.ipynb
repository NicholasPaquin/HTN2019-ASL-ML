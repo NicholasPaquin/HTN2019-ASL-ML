{
  "nbformat": 4,
  "nbformat_minor": 0,
  "metadata": {
    "kernelspec": {
      "name": "python3",
      "display_name": "Python 3"
    },
    "language_info": {
      "codemirror_mode": {
        "name": "ipython",
        "version": 3
      },
      "file_extension": ".py",
      "mimetype": "text/x-python",
      "name": "python",
      "nbconvert_exporter": "python",
      "pygments_lexer": "ipython3",
      "version": "3.7.4"
    },
    "colab": {
      "name": "testing_model.ipynb",
      "version": "0.3.2",
      "provenance": [],
      "collapsed_sections": []
    },
    "accelerator": "GPU"
  },
  "cells": [
    {
      "cell_type": "code",
      "metadata": {
        "id": "3ItqW8hIBrZf",
        "colab_type": "code",
        "colab": {}
      },
      "source": [
        "from google.colab import drive"
      ],
      "execution_count": 0,
      "outputs": []
    },
    {
      "cell_type": "code",
      "metadata": {
        "id": "agh8MMCPHiWE",
        "colab_type": "code",
        "colab": {}
      },
      "source": [
        "NUM_CLASSES = 2"
      ],
      "execution_count": 0,
      "outputs": []
    },
    {
      "cell_type": "code",
      "metadata": {
        "id": "PJI99YrTB7ib",
        "colab_type": "code",
        "colab": {
          "base_uri": "https://localhost:8080/",
          "height": 54
        },
        "outputId": "973cd7a7-13f8-4e47-9030-d6fec2396b90"
      },
      "source": [
        "drive.mount('/content/drive')"
      ],
      "execution_count": 19,
      "outputs": [
        {
          "output_type": "stream",
          "text": [
            "Drive already mounted at /content/drive; to attempt to forcibly remount, call drive.mount(\"/content/drive\", force_remount=True).\n"
          ],
          "name": "stdout"
        }
      ]
    },
    {
      "cell_type": "code",
      "metadata": {
        "id": "PL0gqh9QDlAB",
        "colab_type": "code",
        "colab": {}
      },
      "source": [
        "import numpy as np\n",
        "import os\n",
        "from PIL import Image\n",
        "import matplotlib.pyplot as plt\n",
        "import matplotlib.image as mpimg\n",
        "import pandas as pd"
      ],
      "execution_count": 0,
      "outputs": []
    },
    {
      "cell_type": "code",
      "metadata": {
        "id": "KXPn5aVGDlAE",
        "colab_type": "code",
        "colab": {}
      },
      "source": [
        "from tensorflow.keras import models, layers\n",
        "import cv2"
      ],
      "execution_count": 0,
      "outputs": []
    },
    {
      "cell_type": "code",
      "metadata": {
        "id": "BOP8qALnDlAH",
        "colab_type": "code",
        "colab": {}
      },
      "source": [
        "def load_data(dir: str, classes: int):\n",
        "  X = []\n",
        "  y = []\n",
        "  for i in range(classes):\n",
        "    for j in os.listdir(f'{dir}/data (1)/gesture-{i} (1)/'):\n",
        "      img = Image.open(f'{dir}/data (1)/gesture-{i} (1)/{j}').convert('L')\n",
        "      img = img.resize((128, 128))\n",
        "      arr = np.array(img)\n",
        "      X.append(arr)\n",
        "      y.append(i)\n",
        "  X = np.array(X, dtype = 'float64')\n",
        "  X = X.reshape(len(y), 128, 128, 1)\n",
        "  y_old = np.array(y)\n",
        "  y = np.zeros((len(y), classes))\n",
        "  for i in range(len(y)):\n",
        "    y[i][y_old[i] - 1] = 1\n",
        "  return X/255, y_old"
      ],
      "execution_count": 0,
      "outputs": []
    },
    {
      "cell_type": "code",
      "metadata": {
        "id": "9Ly5JQV_Tpks",
        "colab_type": "code",
        "colab": {
          "base_uri": "https://localhost:8080/",
          "height": 54
        },
        "outputId": "e95abcc6-df37-4a7e-896b-97aefd7532b1"
      },
      "source": [
        "from google.colab import drive\n",
        "drive.mount('/content/drive')"
      ],
      "execution_count": 128,
      "outputs": [
        {
          "output_type": "stream",
          "text": [
            "Drive already mounted at /content/drive; to attempt to forcibly remount, call drive.mount(\"/content/drive\", force_remount=True).\n"
          ],
          "name": "stdout"
        }
      ]
    },
    {
      "cell_type": "code",
      "metadata": {
        "id": "UW8KCoNzKMvb",
        "colab_type": "code",
        "colab": {}
      },
      "source": [
        ""
      ],
      "execution_count": 0,
      "outputs": []
    },
    {
      "cell_type": "code",
      "metadata": {
        "id": "P2NssN0aDlAI",
        "colab_type": "code",
        "colab": {}
      },
      "source": [
        ""
      ],
      "execution_count": 0,
      "outputs": []
    },
    {
      "cell_type": "code",
      "metadata": {
        "id": "QRrtCE8v4ecP",
        "colab_type": "code",
        "colab": {}
      },
      "source": [
        ""
      ],
      "execution_count": 0,
      "outputs": []
    },
    {
      "cell_type": "code",
      "metadata": {
        "id": "vWFCMeaVCgKV",
        "colab_type": "code",
        "colab": {}
      },
      "source": [
        "X, y = load_data('drive/My Drive/Colab Notebooks', NUM_CLASSES)"
      ],
      "execution_count": 0,
      "outputs": []
    },
    {
      "cell_type": "code",
      "metadata": {
        "id": "5icD9vnVDHaZ",
        "colab_type": "code",
        "colab": {}
      },
      "source": [
        ""
      ],
      "execution_count": 0,
      "outputs": []
    },
    {
      "cell_type": "code",
      "metadata": {
        "id": "Qmwe7G1DD8ry",
        "colab_type": "code",
        "colab": {
          "base_uri": "https://localhost:8080/",
          "height": 34
        },
        "outputId": "868e382d-f9f8-4a41-8e51-fac252f00db6"
      },
      "source": [
        "np.zeros((1, 1))"
      ],
      "execution_count": 120,
      "outputs": [
        {
          "output_type": "execute_result",
          "data": {
            "text/plain": [
              "array([[0.]])"
            ]
          },
          "metadata": {
            "tags": []
          },
          "execution_count": 120
        }
      ]
    },
    {
      "cell_type": "code",
      "metadata": {
        "id": "uf3XMd8HFTmy",
        "colab_type": "code",
        "colab": {
          "base_uri": "https://localhost:8080/",
          "height": 34
        },
        "outputId": "f7972c44-a6fe-4f07-9bca-effc1b28f9b9"
      },
      "source": [
        "X.shape"
      ],
      "execution_count": 121,
      "outputs": [
        {
          "output_type": "execute_result",
          "data": {
            "text/plain": [
              "(247, 128, 128, 1)"
            ]
          },
          "metadata": {
            "tags": []
          },
          "execution_count": 121
        }
      ]
    },
    {
      "cell_type": "code",
      "metadata": {
        "id": "uRvuC27fF6db",
        "colab_type": "code",
        "colab": {
          "base_uri": "https://localhost:8080/",
          "height": 286
        },
        "outputId": "c89939d2-c5d3-4b78-8751-ff87ba041025"
      },
      "source": [
        "plt.imshow(X[-3, :, :, 0], cmap='gray')"
      ],
      "execution_count": 123,
      "outputs": [
        {
          "output_type": "execute_result",
          "data": {
            "text/plain": [
              "<matplotlib.image.AxesImage at 0x7f1509a7df98>"
            ]
          },
          "metadata": {
            "tags": []
          },
          "execution_count": 123
        },
        {
          "output_type": "display_data",
          "data": {
            "image/png": "[encoded data removed]",
            "text/plain": [
              "<Figure size 432x288 with 1 Axes>"
            ]
          },
          "metadata": {
            "tags": []
          }
        }
      ]
    },
    {
      "cell_type": "code",
      "metadata": {
        "id": "MIoyKV9gGHX_",
        "colab_type": "code",
        "colab": {}
      },
      "source": [
        ""
      ],
      "execution_count": 0,
      "outputs": []
    },
    {
      "cell_type": "code",
      "metadata": {
        "id": "tndNUtrdGUjz",
        "colab_type": "code",
        "colab": {}
      },
      "source": [
        "from sklearn.model_selection import train_test_split\n",
        "X_train,X_further,y_train,y_further = train_test_split(X,y,test_size = 0.2)\n",
        "X_validate,X_test,y_validate,y_test = train_test_split(X_further,y_further,test_size = 0.5)\n"
      ],
      "execution_count": 0,
      "outputs": []
    },
    {
      "cell_type": "code",
      "metadata": {
        "id": "wt9KwgKiG9wp",
        "colab_type": "code",
        "colab": {}
      },
      "source": [
        "model=models.Sequential()\n",
        "model.add(layers.Conv2D(32, (5, 5), strides=(2, 2), activation='relu', input_shape=(128, 128, 1))) \n",
        "model.add(layers.MaxPooling2D((2, 2)))\n",
        "model.add(layers.Conv2D(64, (3, 3), activation='relu')) \n",
        "model.add(layers.MaxPooling2D((2, 2)))\n",
        "model.add(layers.Conv2D(64, (3, 3), activation='relu'))\n",
        "model.add(layers.MaxPooling2D((2, 2)))\n",
        "model.add(layers.Flatten())\n",
        "model.add(layers.Dense(128, activation='relu'))\n",
        "model.add(layers.Dense(10, activation='softmax'))"
      ],
      "execution_count": 0,
      "outputs": []
    },
    {
      "cell_type": "code",
      "metadata": {
        "id": "z7f5ABJhHKyC",
        "colab_type": "code",
        "colab": {
          "base_uri": "https://localhost:8080/",
          "height": 411
        },
        "outputId": "5da9649c-a4ba-4dd2-9e27-c221c9719714"
      },
      "source": [
        "model.compile(optimizer='rmsprop',\n",
        "              loss='sparse_categorical_crossentropy',\n",
        "              metrics=['accuracy'])\n",
        "model.fit(X_train, y_train, epochs=10, verbose=1, validation_data=(X_validate, y_validate))"
      ],
      "execution_count": 132,
      "outputs": [
        {
          "output_type": "stream",
          "text": [
            "Train on 197 samples, validate on 25 samples\n",
            "Epoch 1/10\n",
            "197/197 [==============================] - 0s 2ms/sample - loss: 1.4999 - acc: 0.5228 - val_loss: 0.9133 - val_acc: 0.4800\n",
            "Epoch 2/10\n",
            "197/197 [==============================] - 0s 581us/sample - loss: 0.5671 - acc: 0.7919 - val_loss: 0.9427 - val_acc: 0.4800\n",
            "Epoch 3/10\n",
            "197/197 [==============================] - 0s 551us/sample - loss: 0.3665 - acc: 0.8579 - val_loss: 0.5482 - val_acc: 0.8800\n",
            "Epoch 4/10\n",
            "197/197 [==============================] - 0s 574us/sample - loss: 0.2816 - acc: 0.8579 - val_loss: 0.3026 - val_acc: 0.8800\n",
            "Epoch 5/10\n",
            "197/197 [==============================] - 0s 560us/sample - loss: 0.0617 - acc: 0.9898 - val_loss: 0.3308 - val_acc: 0.8800\n",
            "Epoch 6/10\n",
            "197/197 [==============================] - 0s 537us/sample - loss: 0.1096 - acc: 0.9645 - val_loss: 0.0854 - val_acc: 0.9600\n",
            "Epoch 7/10\n",
            "197/197 [==============================] - 0s 528us/sample - loss: 0.0155 - acc: 0.9949 - val_loss: 0.0155 - val_acc: 1.0000\n",
            "Epoch 8/10\n",
            "197/197 [==============================] - 0s 530us/sample - loss: 0.0047 - acc: 1.0000 - val_loss: 0.0095 - val_acc: 1.0000\n",
            "Epoch 9/10\n",
            "197/197 [==============================] - 0s 542us/sample - loss: 0.0028 - acc: 1.0000 - val_loss: 0.0047 - val_acc: 1.0000\n",
            "Epoch 10/10\n",
            "197/197 [==============================] - 0s 521us/sample - loss: 0.0010 - acc: 1.0000 - val_loss: 0.0016 - val_acc: 1.0000\n"
          ],
          "name": "stdout"
        },
        {
          "output_type": "execute_result",
          "data": {
            "text/plain": [
              "<tensorflow.python.keras.callbacks.History at 0x7f15094e6080>"
            ]
          },
          "metadata": {
            "tags": []
          },
          "execution_count": 132
        }
      ]
    },
    {
      "cell_type": "code",
      "metadata": {
        "id": "7b1pESLLKVhX",
        "colab_type": "code",
        "colab": {}
      },
      "source": [
        ""
      ],
      "execution_count": 0,
      "outputs": []
    },
    {
      "cell_type": "code",
      "metadata": {
        "id": "rDJkQXpRHdOg",
        "colab_type": "code",
        "colab": {}
      },
      "source": [
        "import datetime\n",
        "model.save(f'drive/My Drive/Colab Notebooks/{datetime.datetime.now()}.h5')"
      ],
      "execution_count": 0,
      "outputs": []
    }
  ]
}